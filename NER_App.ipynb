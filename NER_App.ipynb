{
 "cells": [
  {
   "cell_type": "markdown",
   "id": "de86bfb6",
   "metadata": {},
   "source": [
    "# Name Entities Recognization (NER) "
   ]
  },
  {
   "cell_type": "code",
   "execution_count": 1,
   "id": "1ac14ec7",
   "metadata": {},
   "outputs": [
    {
     "name": "stdout",
     "output_type": "stream",
     "text": [
      "{\n",
      "    \"Company Name\": \"Tesla\",\n",
      "    \"Stock Symbol\": \"TSLA\",\n",
      "    \"Revenue\": \"30 billion $\",\n",
      "    \"Net Income\": \"4.5 billion $\",\n",
      "    \"EPS\": \"2.3 $\"\n",
      "}\n"
     ]
    }
   ],
   "source": [
    "import openai\n",
    "\n",
    "# Replace 'YOUR_API_KEY' with your actual OpenAI API key\n",
    "api_key = \"sk-&****....\"\n",
    "\n",
    "# Set the API key\n",
    "openai.api_key = api_key\n",
    "\n",
    "def extract_financial_data(text):\n",
    "    prompt = get_prompt_financial() + text\n",
    "    response = openai.ChatCompletion.create(\n",
    "        model=\"gpt-3.5-turbo\",\n",
    "        messages=[{\"role\": \"user\",\"content\": prompt}]\n",
    "    )\n",
    "    print(response.choices[0]['message']['content'])\n",
    "\n",
    "\n",
    "\n",
    "def get_prompt_financial():\n",
    "    return '''Please retrieve company name, revenue, net income and earnings per share (a.k.a. EPS)\n",
    "    from the following news article. If you can't find the information from this article \n",
    "    then return \"\". Do not make things up.    \n",
    "    Then retrieve a stock symbol corresponding to that company. For this you can use\n",
    "    your general knowledge (it doesn't have to be from this article). Always return your\n",
    "    response as a valid JSON string. The format of that string should be this, \n",
    "    {\n",
    "        \"Company Name\": \"Walmart\",\n",
    "        \"Stock Symbol\": \"WMT\",\n",
    "        \"Revenue\": \"12.34 million\",\n",
    "        \"Net Income\": \"34.78 million\",\n",
    "        \"EPS\": \"2.1 $\"\n",
    "    }\n",
    "    News Article:\n",
    "    ============\n",
    "\n",
    "    '''\n",
    "\n",
    "if __name__ == '__main__':\n",
    "    text = '''\n",
    "    Tesla's Earning news in text format: Tesla's earning this quarter blew all the estimates. \n",
    "    They reported 4.5 billion $ profit against a revenue of 30 billion $. Their earnings per share was 2.3 $\n",
    "    '''\n",
    "    extract_financial_data(text)"
   ]
  },
  {
   "cell_type": "code",
   "execution_count": null,
   "id": "c28e43ba",
   "metadata": {},
   "outputs": [],
   "source": []
  }
 ],
 "metadata": {
  "kernelspec": {
   "display_name": "Python 3 (ipykernel)",
   "language": "python",
   "name": "python3"
  },
  "language_info": {
   "codemirror_mode": {
    "name": "ipython",
    "version": 3
   },
   "file_extension": ".py",
   "mimetype": "text/x-python",
   "name": "python",
   "nbconvert_exporter": "python",
   "pygments_lexer": "ipython3",
   "version": "3.9.13"
  }
 },
 "nbformat": 4,
 "nbformat_minor": 5
}
